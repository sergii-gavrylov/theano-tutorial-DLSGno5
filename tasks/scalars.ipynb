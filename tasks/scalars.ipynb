{
 "cells": [
  {
   "cell_type": "code",
   "execution_count": null,
   "metadata": {
    "collapsed": true
   },
   "outputs": [],
   "source": [
    "# Fill in the TODOs in this exercise, then run the code to see if your solution works!\n",
    "\n",
    "import numpy as np\n",
    "from theano import function\n",
    "raise NotImplementedError(\"TODO: add any other imports you need\")\n",
    "\n",
    "def make_scalar():\n",
    "    \"\"\"\n",
    "    Returns a new Theano scalar.\n",
    "    \"\"\"\n",
    "\n",
    "    raise NotImplementedError(\"TODO: implement this function.\")\n",
    "\n",
    "def log(x):\n",
    "    \"\"\"\n",
    "    Returns the logarithm of a Theano scalar x.\n",
    "    \"\"\"\n",
    "\n",
    "    raise NotImplementedError(\"TODO: implement this function.\")\n",
    "\n",
    "def add(x, y):\n",
    "    \"\"\"\n",
    "    Adds two theano scalars together and returns the result.\n",
    "    \"\"\"\n",
    "\n",
    "    raise NotImplementedError(\"TODO: implement this function.\")\n",
    "\n",
    "if __name__ == \"__main__\":\n",
    "    a = make_scalar()\n",
    "    b = make_scalar()\n",
    "    c = log(b)\n",
    "    d = add(a, c)\n",
    "    f = function([a, b], d)\n",
    "\n",
    "    actual = f(1.0, 2.0)\n",
    "    expected = 1.0 + np.log(2.0)\n",
    "    assert np.allclose(actual, expected)\n",
    "    print \"SUCCESS!\""
   ]
  }
 ],
 "metadata": {
  "kernelspec": {
   "display_name": "Python 2",
   "language": "python",
   "name": "python2"
  },
  "language_info": {
   "codemirror_mode": {
    "name": "ipython",
    "version": 2
   },
   "file_extension": ".py",
   "mimetype": "text/x-python",
   "name": "python",
   "nbconvert_exporter": "python",
   "pygments_lexer": "ipython2",
   "version": "2.7.6"
  }
 },
 "nbformat": 4,
 "nbformat_minor": 0
}
