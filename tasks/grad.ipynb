{
 "cells": [
  {
   "cell_type": "code",
   "execution_count": null,
   "metadata": {
    "collapsed": true
   },
   "outputs": [],
   "source": [
    "# Fill in the TODOs in this exercise, then run the cell to see if your solution works!\n",
    "\n",
    "from theano import tensor as T\n",
    "\n",
    "def grad_sum(x, y, z):\n",
    "    \"\"\"\n",
    "    x: A theano variable\n",
    "    y: A theano variable\n",
    "    z: A theano expression involving x and y\n",
    "    Returns dz / dx + dz / dy\n",
    "    \"\"\"\n",
    "\n",
    "    raise NotImplementedError(\"TODO: implement this function.\")\n",
    "\n",
    "\n",
    "if __name__ == \"__main__\":\n",
    "    x = T.scalar()\n",
    "    y = T.scalar()\n",
    "    z = x + y\n",
    "    s = grad_sum(x, y, z)\n",
    "    assert s.eval({x: 0, y:0}) == 2\n",
    "    print \"SUCCESS!\""
   ]
  }
 ],
 "metadata": {
  "kernelspec": {
   "display_name": "Python 2",
   "language": "python",
   "name": "python2"
  },
  "language_info": {
   "codemirror_mode": {
    "name": "ipython",
    "version": 2
   },
   "file_extension": ".py",
   "mimetype": "text/x-python",
   "name": "python",
   "nbconvert_exporter": "python",
   "pygments_lexer": "ipython2",
   "version": "2.7.6"
  }
 },
 "nbformat": 4,
 "nbformat_minor": 0
}
