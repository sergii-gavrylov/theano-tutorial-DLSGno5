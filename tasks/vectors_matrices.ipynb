{
 "cells": [
  {
   "cell_type": "code",
   "execution_count": null,
   "metadata": {
    "collapsed": true
   },
   "outputs": [],
   "source": [
    "# Fill in the TODOs in this exercise, then run the cell to see if your solution works!\n",
    "\n",
    "import numpy as np\n",
    "from theano import function\n",
    "raise NotImplementedError(\"TODO: add any other imports you need\")\n",
    "\n",
    "def make_vector():\n",
    "    \"\"\"\n",
    "    Returns a new Theano vector.\n",
    "    \"\"\"\n",
    "\n",
    "    raise NotImplementedError(\"TODO: implement this function.\")\n",
    "\n",
    "def make_matrix():\n",
    "    \"\"\"\n",
    "    Returns a new Theano matrix.\n",
    "    \"\"\"\n",
    "\n",
    "    raise NotImplementedError(\"TODO: implement this function.\")\n",
    "\n",
    "def elemwise_mul(a, b):\n",
    "    \"\"\"\n",
    "    a: A theano matrix\n",
    "    b: A theano matrix\n",
    "    Returns the elementwise product of a and b\n",
    "    \"\"\"\n",
    "\n",
    "    raise NotImplementedError(\"TODO: implement this function.\")\n",
    "\n",
    "def matrix_vector_mul(a, b):\n",
    "    \"\"\"\n",
    "    a: A theano matrix\n",
    "    b: A theano vector\n",
    "    Returns the matrix-vector product of a and b\n",
    "    \"\"\"\n",
    "\n",
    "    raise NotImplementedError(\"TODO: implement this function.\")\n",
    "\n",
    "if __name__ == \"__main__\":\n",
    "    a = make_vector()\n",
    "    b = make_vector()\n",
    "    c = elemwise_mul(a, b)\n",
    "    d = make_matrix()\n",
    "    e = matrix_vector_mul(d, c)\n",
    "\n",
    "    f = function([a, b, d], e)\n",
    "\n",
    "    rng = np.random.RandomState(42)\n",
    "    a_value = rng.randn(5).astype(a.dtype)\n",
    "    b_value = rng.rand(5).astype(b.dtype)\n",
    "    c_value = a_value * b_value\n",
    "    d_value = rng.randn(5, 5).astype(d.dtype)\n",
    "    expected = np.dot(d_value, c_value)\n",
    "\n",
    "    actual = f(a_value, b_value, d_value)\n",
    "\n",
    "    assert np.allclose(actual, expected)\n",
    "    print \"SUCCESS!\""
   ]
  }
 ],
 "metadata": {
  "kernelspec": {
   "display_name": "Python 2",
   "language": "python",
   "name": "python2"
  },
  "language_info": {
   "codemirror_mode": {
    "name": "ipython",
    "version": 2
   },
   "file_extension": ".py",
   "mimetype": "text/x-python",
   "name": "python",
   "nbconvert_exporter": "python",
   "pygments_lexer": "ipython2",
   "version": "2.7.6"
  }
 },
 "nbformat": 4,
 "nbformat_minor": 0
}
