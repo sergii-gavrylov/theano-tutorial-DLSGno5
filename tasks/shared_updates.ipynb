{
 "cells": [
  {
   "cell_type": "code",
   "execution_count": null,
   "metadata": {
    "collapsed": true
   },
   "outputs": [],
   "source": [
    "# Fill in the TODOs in this exercise, then run the code to see if your solution works!\n",
    "\n",
    "import numpy as np\n",
    "raise NotImplementedError(\"TODO: add any other imports you need\")\n",
    "\n",
    "def make_shared(shape):\n",
    "    \"\"\"\n",
    "    Returns a theano shared variable containing a tensor of the specified\n",
    "    shape.\n",
    "    You can use any value you want.\n",
    "    \"\"\"\n",
    "    raise NotImplementedError(\"TODO: implement the function\")\n",
    "\n",
    "def exchange_shared(a, b):\n",
    "    \"\"\"\n",
    "    a: a theano shared variable\n",
    "    b: a theano shared variable\n",
    "    Uses get_value and set_value to swap the values stored in a and b\n",
    "    \"\"\"\n",
    "    raise NotImplementedError(\"TODO: implement the function\")\n",
    "\n",
    "def make_exchange_func(a, b):\n",
    "    \"\"\"\n",
    "    a: a theano shared variable\n",
    "    b: a theano shared variable\n",
    "    Returns f\n",
    "    where f is a theano function, which, when called, swaps the\n",
    "    values in a and b\n",
    "    f should not return anything\n",
    "    \"\"\"\n",
    "    raise NotImplementedError(\"TODO: implement the function\")\n",
    "\n",
    "\n",
    "\n",
    "if __name__ == \"__main__\":\n",
    "    a = make_shared((3, 3))\n",
    "    assert a.get_value().shape == (3, 3)\n",
    "    b = make_shared((3, 3))\n",
    "    assert a.get_value().shape == (3, 3)\n",
    "    a.set_value(np.zeros((3, 3), dtype=a.dtype))\n",
    "    b.set_value(np.ones((3, 3), dtype=b.dtype))\n",
    "    exchange_shared(a, b)\n",
    "    assert np.all(a.get_value() == 1.)\n",
    "    assert np.all(b.get_value() == 0.)\n",
    "    f = make_exchange_func(a, b)\n",
    "    rval = f()\n",
    "    assert isinstance(rval, list)\n",
    "    assert len(rval) == 0\n",
    "    assert np.all(a.get_value() == 0.)\n",
    "    assert np.all(b.get_value() == 1.)\n",
    "\n",
    "    print \"SUCCESS!\""
   ]
  }
 ],
 "metadata": {
  "kernelspec": {
   "display_name": "Python 2",
   "language": "python",
   "name": "python2"
  },
  "language_info": {
   "codemirror_mode": {
    "name": "ipython",
    "version": 2
   },
   "file_extension": ".py",
   "mimetype": "text/x-python",
   "name": "python",
   "nbconvert_exporter": "python",
   "pygments_lexer": "ipython2",
   "version": "2.7.6"
  }
 },
 "nbformat": 4,
 "nbformat_minor": 0
}
